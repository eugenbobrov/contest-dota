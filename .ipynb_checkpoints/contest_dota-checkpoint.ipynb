{
 "cells": [
  {
   "cell_type": "code",
   "execution_count": 1,
   "metadata": {
    "collapsed": false
   },
   "outputs": [],
   "source": [
    "import numpy as np\n",
    "import pandas as pd\n",
    "import matplotlib.pyplot as plt\n",
    "from sklearn.linear_model import LogisticRegression\n",
    "from sklearn.ensemble import GradientBoostingClassifier\n",
    "from sklearn.cross_validation import train_test_split\n",
    "from sklearn.preprocessing import StandardScaler\n",
    "from sklearn.preprocessing import OneHotEncoder\n",
    "from sklearn import metrics\n",
    "from sklearn.cross_validation import cross_val_score\n",
    "%matplotlib inline"
   ]
  },
  {
   "cell_type": "code",
   "execution_count": 2,
   "metadata": {
    "collapsed": false
   },
   "outputs": [],
   "source": [
    "def transform_data(data, scaler, one_hot_encoder, is_train):\n",
    "    \n",
    "    r = ['r{}_kills'.format(number) for number in range(1, 6)]\n",
    "    d = ['d{}_kills'.format(number) for number in range(1, 6)]\n",
    "    differences_in_kills = data[r].sum(axis=1) <= data[d].sum(axis=1)\n",
    "    data['first_blood_team'] = data['first_blood_team'].fillna(differences_in_kills)\n",
    "    data['first_blood_team'] = data['first_blood_team'].apply(lambda x: -1 if x==0 else 1)\n",
    "    data['first_blood_time'] = data['first_blood_time'].fillna(300)\n",
    "    data['first_blood_time'] = data['first_blood_time'].apply(lambda x: 30 if x<=30 else x)\n",
    "    data['first_blood_team'] = data['first_blood_team']/data['first_blood_time']\n",
    "    \n",
    "    data = data.fillna(data.mean())\n",
    "\n",
    "    heroes = ['r1_hero', 'r2_hero', 'r3_hero', 'r4_hero', 'r5_hero',\n",
    "          'd1_hero', 'd2_hero', 'd3_hero', 'd4_hero', 'd5_hero']\n",
    "    \n",
    "    N = data[heroes].max().max()\n",
    "    heroes_bag = np.zeros((data.shape[0], N))\n",
    "    \n",
    "    for i, match_id in enumerate(data.index):\n",
    "        for p in range(5):\n",
    "            heroes_bag[i, data.ix[match_id, 'r%d_hero' % (p+1)]-1] = 1\n",
    "            heroes_bag[i, data.ix[match_id, 'd%d_hero' % (p+1)]-1] = -1\n",
    "    \n",
    "    data = data.drop(heroes, axis=1)\n",
    "    if is_train:\n",
    "        lobby = one_hot_encoder.fit_transform(np.array(data['lobby_type'][:,np.newaxis]))\n",
    "    else:\n",
    "        lobby = one_hot_encoder.transform(np.array(data['lobby_type'][:,np.newaxis]))\n",
    "        \n",
    "    data = data.drop('lobby_type', axis=1)\n",
    "    \n",
    "    \n",
    "    r = ['r{}_deaths'.format(number) for number in range(1, 6)]\n",
    "    d = ['d{}_deaths'.format(number) for number in range(1, 6)]\n",
    "    r_range_deaths = np.sort(np.array(data[r]))\n",
    "    d_range_deaths = np.sort(np.array(data[d]))\n",
    "    \n",
    "    r = ['r{}_gold'.format(number) for number in range(1, 6)]\n",
    "    d = ['d{}_gold'.format(number) for number in range(1, 6)]\n",
    "    r_range_gold = np.sort(np.array(data[r]))\n",
    "    d_range_gold = np.sort(np.array(data[d]))\n",
    "    \n",
    "    r = ['r{}_items'.format(number) for number in range(1, 6)]\n",
    "    d = ['d{}_items'.format(number) for number in range(1, 6)]\n",
    "    r_range_items = np.sort(np.array(data[r]))\n",
    "    d_range_items = np.sort(np.array(data[d]))\n",
    "    \n",
    "    r = ['r{}_kills'.format(number) for number in range(1, 6)]\n",
    "    d = ['d{}_kills'.format(number) for number in range(1, 6)]\n",
    "    r_range_kills = np.sort(np.array(data[r]))\n",
    "    d_range_kills = np.sort(np.array(data[d]))\n",
    "    \n",
    "    r = ['r{}_level'.format(number) for number in range(1, 6)]\n",
    "    d = ['d{}_level'.format(number) for number in range(1, 6)]\n",
    "    r_range_level = np.sort(np.array(data[r]))\n",
    "    d_range_level = np.sort(np.array(data[d]))\n",
    "    \n",
    "    r = ['r{}_lh'.format(number) for number in range(1, 6)]\n",
    "    d = ['d{}_lh'.format(number) for number in range(1, 6)]\n",
    "    r_range_lh = np.sort(np.array(data[r]))\n",
    "    d_range_lh = np.sort(np.array(data[d]))\n",
    "    \n",
    "    r = ['r{}_xp'.format(number) for number in range(1, 6)]\n",
    "    d = ['d{}_xp'.format(number) for number in range(1, 6)]\n",
    "    r_range_xp = np.sort(np.array(data[r]))\n",
    "    d_range_xp = np.sort(np.array(data[d]))\n",
    "    \n",
    "    \n",
    "    heroes_features = ['deaths', 'gold','items', 'kills','level','lh','xp']\n",
    "    shape = (len(heroes_features), data.shape[0])\n",
    "    r_team_min = np.empty(shape)\n",
    "    d_team_min = np.empty(shape)\n",
    "    r_team_max = np.empty(shape)\n",
    "    d_team_max = np.empty(shape)\n",
    "    r_team_mean = np.empty(shape)\n",
    "    d_team_mean = np.empty(shape)\n",
    "    r_team_std = np.empty(shape)\n",
    "    d_team_std = np.empty(shape)\n",
    "    for i, feature in enumerate(heroes_features):\n",
    "        r = ['r{}_{}'.format(number, feature) for number in range(1, 6)]\n",
    "        d = ['d{}_{}'.format(number, feature) for number in range(1, 6)]\n",
    "        r_team_min[i] = data[r].min(axis=1)\n",
    "        d_team_min[i] = data[d].min(axis=1)\n",
    "        r_team_max[i] = data[r].max(axis=1)\n",
    "        d_team_max[i] = data[d].max(axis=1)\n",
    "        r_team_mean[i] = data[r].mean(axis=1)\n",
    "        d_team_mean[i] = data[d].mean(axis=1)\n",
    "        r_team_std[i] = data[r].std(axis=1)\n",
    "        d_team_std[i] = data[d].std(axis=1)\n",
    "        \n",
    "        data = data.drop(r, axis=1)\n",
    "        data = data.drop(d, axis=1)\n",
    "        \n",
    "    data = data.as_matrix()\n",
    "    data = np.concatenate((data, r_team_min.T, r_team_max.T, r_team_mean.T,\n",
    "                           d_team_min.T, d_team_max.T, d_team_mean.T,\n",
    "                           r_team_std.T, d_team_std.T, r_range_deaths,\n",
    "                           d_range_deaths, r_range_gold, d_range_gold,\n",
    "                           r_range_kills, d_range_kills, r_range_items,\n",
    "                           d_range_items, r_range_level, d_range_level,\n",
    "                           r_range_lh, d_range_lh, r_range_xp, d_range_xp), axis=1)\n",
    "    if is_train:\n",
    "        data = scaler.fit_transform(data)\n",
    "    else:\n",
    "        data = scaler.transform(data)\n",
    "    \n",
    "    return np.concatenate((data, heroes_bag, lobby), axis=1), scaler, one_hot_encoder"
   ]
  },
  {
   "cell_type": "code",
   "execution_count": 3,
   "metadata": {
    "collapsed": false
   },
   "outputs": [],
   "source": [
    "data_train = pd.read_csv('features.csv', index_col='match_id')\n",
    "y = np.array(data_train['radiant_win'])\n",
    "X = data_train.drop(['start_time', 'first_blood_player1', 'first_blood_player2',\n",
    "                     'duration', 'radiant_win', 'tower_status_radiant',\n",
    "                     'tower_status_dire','barracks_status_radiant',\n",
    "                     'barracks_status_dire'], axis=1)\n",
    "\n",
    "scaler = StandardScaler()\n",
    "one_hot_encoder = OneHotEncoder(sparse=False)\n",
    "X, scaler, one_hot_encoder = transform_data(X, scaler, one_hot_encoder, True)\n",
    "X.shape"
   ]
  },
  {
   "cell_type": "code",
   "execution_count": 37,
   "metadata": {
    "collapsed": false
   },
   "outputs": [
    {
     "data": {
      "text/plain": [
       "[<matplotlib.lines.Line2D at 0x7f52de03c128>]"
      ]
     },
     "execution_count": 37,
     "metadata": {},
     "output_type": "execute_result"
    },
    {
     "data": {
      "image/png": "[encoded data removed]",
      "text/plain": [
       "<matplotlib.figure.Figure at 0x7f52ddc185f8>"
      ]
     },
     "metadata": {},
     "output_type": "display_data"
    }
   ],
   "source": [
    "alpha_grid = [0.02, 0.03, 0.04]\n",
    "ax = plt.gca()\n",
    "ax.get_yaxis().get_major_formatter().set_useOffset(False)\n",
    "plt.title('ROC-AUC SCORE')\n",
    "plt.xticks(range(3), alpha_grid)\n",
    "plt.xlabel('COEF REGULARIZATION')\n",
    "plt.ylabel('QUALITY')\n",
    "log_reg_l2 = [cross_val_score(LogisticRegression(C=alpha),\n",
    "              X, y, scoring='roc_auc', cv=4, n_jobs=-1).mean() for alpha in alpha_grid]\n",
    "plt.grid()\n",
    "plt.plot(log_reg_l2)"
   ]
  },
  {
   "cell_type": "code",
   "execution_count": 28,
   "metadata": {
    "collapsed": false
   },
   "outputs": [
    {
     "data": {
      "text/plain": [
       "0.7520073160140105"
      ]
     },
     "execution_count": 28,
     "metadata": {},
     "output_type": "execute_result"
    }
   ],
   "source": [
    "cross_val_score(LogisticRegression(C=0.03),\n",
    "                 X, y, scoring='roc_auc', cv=4, n_jobs=-1).mean()"
   ]
  },
  {
   "cell_type": "code",
   "execution_count": 26,
   "metadata": {
    "collapsed": false
   },
   "outputs": [
    {
     "name": "stdout",
     "output_type": "stream",
     "text": [
      "CPU times: user 14.2 s, sys: 5.71 s, total: 20 s\n",
      "Wall time: 3h 31min 58s\n"
     ]
    },
    {
     "data": {
      "text/plain": [
       "[<matplotlib.lines.Line2D at 0x7f1a82286320>]"
      ]
     },
     "execution_count": 26,
     "metadata": {},
     "output_type": "execute_result"
    },
    {
     "data": {
      "image/png": "[encoded data removed]",
      "text/plain": [
       "<matplotlib.figure.Figure at 0x7f1a6f034eb8>"
      ]
     },
     "metadata": {},
     "output_type": "display_data"
    }
   ],
   "source": [
    "rate_grid = np.arange(0.1, 0.6, 0.5)\n",
    "ax = plt.gca()\n",
    "ax.get_yaxis().get_major_formatter().set_useOffset(False)\n",
    "plt.title('ROC-AUC SCORE')\n",
    "plt.xticks(range(len(rate_grid)), rate_grid)\n",
    "plt.xlabel('COEF REGULARIZATION')\n",
    "plt.ylabel('QUALITY')\n",
    "%time boosting = [cross_val_score(GradientBoostingClassifier(learning_rate=rate),\n",
    "                  X, y, scoring='roc_auc', cv=4, n_jobs=-1).mean() for rate in rate_grid]\n",
    "plt.grid()\n",
    "plt.plot(boosting)"
   ]
  },
  {
   "cell_type": "code",
   "execution_count": null,
   "metadata": {
    "collapsed": true
   },
   "outputs": [],
   "source": [
    "cross_val_score(GradientBoostingClassifier(learning_rate=0.3),\n",
    "                 X, y, scoring='roc_auc', cv=4, n_jobs=-1).mean()"
   ]
  },
  {
   "cell_type": "code",
   "execution_count": 9,
   "metadata": {
    "collapsed": true
   },
   "outputs": [],
   "source": [
    "log_reg_l2 = LogisticRegression(C=0.03)\n",
    "log_boost = GradientBoostingClassifier(learning_rate=0.3)"
   ]
  },
  {
   "cell_type": "code",
   "execution_count": 129,
   "metadata": {
    "collapsed": false
   },
   "outputs": [
    {
     "data": {
      "text/plain": [
       "[<matplotlib.lines.Line2D at 0x7f52b457a668>]"
      ]
     },
     "execution_count": 129,
     "metadata": {},
     "output_type": "execute_result"
    },
    {
     "data": {
      "image/png": "[encoded data removed]",
      "text/plain": [
       "<matplotlib.figure.Figure at 0x7f52b455c2e8>"
      ]
     },
     "metadata": {},
     "output_type": "display_data"
    }
   ],
   "source": [
    "X_train, X_test, y_train, y_test = train_test_split(X, y, test_size=0.3)\n",
    "\n",
    "log_reg.fit(X_train, y_train)\n",
    "log_boost.fit(X_train, y_train)\n",
    "\n",
    "alpha_grid = np.arange(0, 1.01, 0.1)\n",
    "\n",
    "covern = [metrics.roc_auc_score(y_test,\n",
    "                                alpha * clf1.predict_proba(X_test)[:, 1] + \n",
    "                                (1-alpha)* clf2.predict_proba(X_test)[:, 1])\n",
    "                                for alpha in alpha_grid]\n",
    "ax = plt.gca()\n",
    "ax.get_yaxis().get_major_formatter().set_useOffset(False)\n",
    "plt.xticks(range(len(alpha_grid)), alpha_grid)\n",
    "plt.grid()\n",
    "plt.plot(covern)"
   ]
  },
  {
   "cell_type": "code",
   "execution_count": 13,
   "metadata": {
    "collapsed": false
   },
   "outputs": [],
   "source": [
    "log_reg_l2.fit(X, y)\n",
    "p = log_reg_l2.predict_proba(X)[:,1]\n",
    "y[y==0] = -1\n",
    "p1 = (p-0.5)*2"
   ]
  },
  {
   "cell_type": "code",
   "execution_count": 42,
   "metadata": {
    "collapsed": false
   },
   "outputs": [
    {
     "data": {
      "text/plain": [
       "0.94910007199424051"
      ]
     },
     "execution_count": 42,
     "metadata": {},
     "output_type": "execute_result"
    }
   ],
   "source": [
    "mask = (p1*y > -0.5)\n",
    "mask.sum()/len(X)"
   ]
  },
  {
   "cell_type": "code",
   "execution_count": 43,
   "metadata": {
    "collapsed": false
   },
   "outputs": [
    {
     "data": {
      "text/plain": [
       "0.81593244988347169"
      ]
     },
     "execution_count": 43,
     "metadata": {},
     "output_type": "execute_result"
    }
   ],
   "source": [
    "X_train, X_test, y_train, y_test = train_test_split(X[mask], y[mask], test_size=0.3)\n",
    "\n",
    "log_reg_l2.fit(X_train, y_train)\n",
    "log_boost.fit(X_train, y_train)\n",
    "\n",
    "metrics.roc_auc_score(y_test,\n",
    "    0.7*log_reg_l2.predict_proba(X_test)[:,1] +\n",
    "    0.3*log_boost.predict_proba(X_test)[:,1])"
   ]
  },
  {
   "cell_type": "code",
   "execution_count": 6,
   "metadata": {
    "collapsed": false
   },
   "outputs": [],
   "source": [
    "data_test = pd.read_csv('features_test.csv', index_col='match_id')\n",
    "X_test = data_test.drop(['start_time','first_blood_player1', 'first_blood_player2'], axis=1)\n",
    "X_test, _, _ = transform_data(X_test, scaler, one_hot_encoder, False)"
   ]
  },
  {
   "cell_type": "code",
   "execution_count": null,
   "metadata": {
    "collapsed": true
   },
   "outputs": [],
   "source": [
    "log_reg_l2.fit(X[mask], y[mask])\n",
    "log_boost.fit(X[mask], y[mask])"
   ]
  },
  {
   "cell_type": "code",
   "execution_count": 177,
   "metadata": {
    "collapsed": true
   },
   "outputs": [],
   "source": [
    "predicted = 0.7*log_reg_l2.predict_proba(X_test)[:,1] + 0.3*log_boost.prefict_proba(X_test)[:,1]"
   ]
  },
  {
   "cell_type": "code",
   "execution_count": 178,
   "metadata": {
    "collapsed": false
   },
   "outputs": [],
   "source": [
    "solution = pd.DataFrame()\n",
    "solution.insert(loc=0, column='match_id', value=data_test.index)\n",
    "solution.insert(loc=1, column='radiant_win', value=predicted)\n",
    "solution.to_csv('solution.csv', index=False)"
   ]
  }
 ],
 "metadata": {
  "kernelspec": {
   "display_name": "Python 3",
   "language": "python",
   "name": "python3"
  },
  "language_info": {
   "codemirror_mode": {
    "name": "ipython",
    "version": 3
   },
   "file_extension": ".py",
   "mimetype": "text/x-python",
   "name": "python",
   "nbconvert_exporter": "python",
   "pygments_lexer": "ipython3",
   "version": "3.5.1"
  }
 },
 "nbformat": 4,
 "nbformat_minor": 0
}
